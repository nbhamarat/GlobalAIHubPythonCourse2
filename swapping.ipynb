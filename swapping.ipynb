{
 "cells": [
  {
   "cell_type": "code",
   "execution_count": 14,
   "metadata": {},
   "outputs": [
    {
     "name": "stdout",
     "output_type": "stream",
     "text": [
      "['ceres', 'vesta', 'pallas', 'mercury', 'venus', 'earth']\n"
     ]
    }
   ],
   "source": [
    "#My first attempt\n",
    "mylist=[\"mercury\", \"venus\", \"earth\", \"ceres\", \"vesta\", \"pallas\"]\n",
    "mylist[0:2] = \"ceres\", \"vesta\", \"pallas\"\n",
    "mylist[3:5] = \"mercury\", \"venus\", \"earth\"\n",
    "popped=mylist.pop(-1)\n",
    "popped=mylist.pop(-1)\n",
    "            \n",
    "print(mylist)"
   ]
  },
  {
   "cell_type": "code",
   "execution_count": 11,
   "metadata": {},
   "outputs": [
    {
     "name": "stdout",
     "output_type": "stream",
     "text": [
      "['ceres', 'vesta', 'pallas', 'mercury', 'venus', 'earth']\n"
     ]
    }
   ],
   "source": [
    "#This is what I came up with after looking for solutions online.\n",
    "A = [\"mercury\", \"venus\", \"earth\", \"ceres\", \"vesta\", \"pallas\" ]\n",
    "B=A[:len(A)//2]\n",
    "C=A[len(A)//2:]\n",
    "D=C+B\n",
    "print(D)"
   ]
  },
  {
   "cell_type": "code",
   "execution_count": null,
   "metadata": {},
   "outputs": [],
   "source": [
    "#For both codes, I assumed that I was supposed to swap a specific list that I made up. Not \"any\" list. "
   ]
  }
 ],
 "metadata": {
  "kernelspec": {
   "display_name": "Python 3",
   "language": "python",
   "name": "python3"
  },
  "language_info": {
   "codemirror_mode": {
    "name": "ipython",
    "version": 3
   },
   "file_extension": ".py",
   "mimetype": "text/x-python",
   "name": "python",
   "nbconvert_exporter": "python",
   "pygments_lexer": "ipython3",
   "version": "3.8.5"
  }
 },
 "nbformat": 4,
 "nbformat_minor": 4
}
