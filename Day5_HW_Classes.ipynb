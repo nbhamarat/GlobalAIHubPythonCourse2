{
  "nbformat": 4,
  "nbformat_minor": 0,
  "metadata": {
    "kernelspec": {
      "display_name": "Python 3",
      "language": "python",
      "name": "python3"
    },
    "language_info": {
      "codemirror_mode": {
        "name": "ipython",
        "version": 3
      },
      "file_extension": ".py",
      "mimetype": "text/x-python",
      "name": "python",
      "nbconvert_exporter": "python",
      "pygments_lexer": "ipython3",
      "version": "3.8.5"
    },
    "colab": {
      "name": "Day5_HW_Classes.ipynb",
      "provenance": []
    }
  },
  "cells": [
    {
      "cell_type": "code",
      "metadata": {
        "id": "APXWLLpAcDs1"
      },
      "source": [
        "class Animals:\n",
        "    def __init__(self, animalname, classification, species ):\n",
        "        self.animalname = animalname\n",
        "        self.clas= classification\n",
        "        self.species = species\n",
        "        \n",
        "    def print_animalname (self):\n",
        "        print(self.animalname)\n",
        "    def print_class (self):\n",
        "        print(self.clas)\n",
        "    def print_species (self):\n",
        "        print(self.species)\n",
        "    def print_taxonomy (self):\n",
        "        print(self.animalname + \" is a \" + self.clas + \" with the scientific name of \" + self.species)\n",
        "        "
      ],
      "execution_count": 2,
      "outputs": []
    },
    {
      "cell_type": "code",
      "metadata": {
        "id": "vd82HceLcDs4"
      },
      "source": [
        "class Doggo (Animals):\n",
        "    def __init__ (self, animalname, classification, species, breed, age, weight):\n",
        "        super().__init__(animalname, classification, species)\n",
        "        self.breed = breed\n",
        "        self.age = age\n",
        "        self.weight = weight\n",
        "    \n",
        "    def DoggoInfo(self):\n",
        "        print(\"Doggo's info: \" +  str(self.animalname)+\" \"+  self.breed +\" \" + str(self.age)  +\" \"+ str(self.weight))\n",
        "    def DoggoAge(self):\n",
        "        print(self.age)"
      ],
      "execution_count": 3,
      "outputs": []
    },
    {
      "cell_type": "code",
      "metadata": {
        "colab": {
          "base_uri": "https://localhost:8080/"
        },
        "id": "JY4saOdGcDs5",
        "outputId": "90b6f88b-5450-491e-a805-e3349a187eee"
      },
      "source": [
        "Pixie= Doggo(\"Dog\", \"Mammal\", \"Canus lupus Familiaris\",\"Pug\", \"5\", \"8kg\")\n",
        "Marley=Doggo(\"Dog\", \"Mammal\", \"Canus lupus Familiaris\", \"Beagle\", \"6\", \"14kg\")\n",
        "Croissant=Doggo(\"Dog\", \"Mammal\", \"Canus lupus Familiaris\",\"French Bulldog\", \"3\", \"12kg\")\n",
        "print(Pixie.age)\n",
        "print(Marley.animalname)\n",
        "print(Croissant.clas)\n",
        "Pixie.DoggoInfo()"
      ],
      "execution_count": 4,
      "outputs": [
        {
          "output_type": "stream",
          "text": [
            "5\n",
            "Dog\n",
            "Mammal\n",
            "Doggo's info: Dog Pug 5 8kg\n"
          ],
          "name": "stdout"
        }
      ]
    },
    {
      "cell_type": "code",
      "metadata": {
        "id": "HGQc1aBqcDs6"
      },
      "source": [
        "class Kittie (Animals):\n",
        "    def __init__ (self, animalname, classification, species, breed, age, weight):\n",
        "        super().__init__(animalname, classification, species)\n",
        "        self.breed = breed\n",
        "        self.age = age\n",
        "        self.weight = weight\n",
        "    \n",
        "    def KittieInfo(self):\n",
        "        print(\"Kittie's info: \" + self.animalname +\" \"+ self.breed +\" \"+ str(self.age) +\" \"+ str(self.weight))\n",
        "    def KittieAge(self):\n",
        "        print(self.age)"
      ],
      "execution_count": 5,
      "outputs": []
    },
    {
      "cell_type": "code",
      "metadata": {
        "colab": {
          "base_uri": "https://localhost:8080/"
        },
        "id": "7VhZ24lMcDs6",
        "outputId": "ff948a13-1106-4438-eb55-8948d1feb5df"
      },
      "source": [
        "Seker= Kittie(\"Cat\", \"Mammal\", \"Felis Catus\", \"Van Cat\", \"8\", \"6kg\")\n",
        "Fatos= Kittie(\"Cat\", \"Mammal\", \"Felis Catus\", \"Turkish Angora\", \"11\", \"5kg\", )\n",
        "Fred= Kittie(\"Cat\", \"Mammal\", \"Felis Catus\", \"Scottish fold\", \"2\" ,\"5kg\")\n",
        "\n",
        "Fatos.KittieInfo()"
      ],
      "execution_count": 6,
      "outputs": [
        {
          "output_type": "stream",
          "text": [
            "Kittie's info: Cat Turkish Angora 11 5kg\n"
          ],
          "name": "stdout"
        }
      ]
    },
    {
      "cell_type": "code",
      "metadata": {
        "colab": {
          "base_uri": "https://localhost:8080/"
        },
        "id": "8P-gSEZ2cDs6",
        "outputId": "d625391e-860b-4945-9b2c-a4357e372a84"
      },
      "source": [
        "Marley.print_animalname()\n",
        "Marley.print_class()\n",
        "Marley.print_species()\n",
        "Marley.print_taxonomy()"
      ],
      "execution_count": 7,
      "outputs": [
        {
          "output_type": "stream",
          "text": [
            "Dog\n",
            "Mammal\n",
            "Canus lupus Familiaris\n",
            "Dog is a Mammal with the scientific name of Canus lupus Familiaris\n"
          ],
          "name": "stdout"
        }
      ]
    },
    {
      "cell_type": "code",
      "metadata": {
        "colab": {
          "base_uri": "https://localhost:8080/"
        },
        "id": "BCUTjqIdcDs7",
        "outputId": "4c175c61-d965-4cf4-e5b1-9a8cb66c8aaa"
      },
      "source": [
        "Fatos.print_taxonomy()"
      ],
      "execution_count": 8,
      "outputs": [
        {
          "output_type": "stream",
          "text": [
            "Cat is a Mammal with the scientific name of Felis Catus\n"
          ],
          "name": "stdout"
        }
      ]
    }
  ]
}