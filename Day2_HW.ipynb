{
  "nbformat": 4,
  "nbformat_minor": 0,
  "metadata": {
    "colab": {
      "name": "Day2_HW.ipynb",
      "provenance": []
    },
    "kernelspec": {
      "name": "python3",
      "display_name": "Python 3"
    }
  },
  "cells": [
    {
      "cell_type": "code",
      "metadata": {
        "colab": {
          "base_uri": "https://localhost:8080/"
        },
        "id": "tHhxQgzVsInE",
        "outputId": "fc003146-c00f-42d7-9c16-87336ba5a2d2"
      },
      "source": [
        "#My first attempt\n",
        "mylist=[\"mercury\", \"venus\", \"earth\", \"ceres\", \"vesta\", \"pallas\"]\n",
        "mylist[0:2] = \"ceres\", \"vesta\", \"pallas\"\n",
        "mylist[3:5] = \"mercury\", \"venus\", \"earth\"\n",
        "popped=mylist.pop(-1)\n",
        "popped=mylist.pop(-1)\n",
        "            \n",
        "print(mylist)\n"
      ],
      "execution_count": 1,
      "outputs": [
        {
          "output_type": "stream",
          "text": [
            "['ceres', 'vesta', 'pallas', 'mercury', 'venus', 'earth']\n"
          ],
          "name": "stdout"
        }
      ]
    },
    {
      "cell_type": "code",
      "metadata": {
        "colab": {
          "base_uri": "https://localhost:8080/"
        },
        "id": "179zNwlLsM6_",
        "outputId": "c1c9bfd8-f4de-4853-e3bd-4ab7d12e1507"
      },
      "source": [
        "#This is what I came up with later.\n",
        "A = [\"mercury\", \"venus\", \"earth\", \"ceres\", \"vesta\", \"pallas\" ]\n",
        "B=A[:len(A)//2]\n",
        "C=A[len(A)//2:]\n",
        "D=C+B\n",
        "print(D)"
      ],
      "execution_count": 2,
      "outputs": [
        {
          "output_type": "stream",
          "text": [
            "['ceres', 'vesta', 'pallas', 'mercury', 'venus', 'earth']\n"
          ],
          "name": "stdout"
        }
      ]
    },
    {
      "cell_type": "code",
      "metadata": {
        "id": "gduN8qHSsRDh"
      },
      "source": [
        "#For both codes, I assumed that I was supposed to swap a specific list that I made up. Not \"any\" list."
      ],
      "execution_count": null,
      "outputs": []
    },
    {
      "cell_type": "code",
      "metadata": {
        "colab": {
          "base_uri": "https://localhost:8080/"
        },
        "id": "735Y7qs_sikn",
        "outputId": "1812f3e2-25c0-4e99-91ee-8ae02fc97cd3"
      },
      "source": [
        "#Single digit even numbers\n",
        "n=int(input(\"Please enter a single digit integer \"))\n",
        "nums=list(range(n+1))\n",
        "even_nums = [i for i in nums if i%2==0]\n",
        "\n",
        "if n>9:\n",
        "    print(\"invalid number\")\n",
        "elif n<0:\n",
        "    print(\"invalid number\")\n",
        "else:\n",
        "    print(even_nums)"
      ],
      "execution_count": 3,
      "outputs": [
        {
          "output_type": "stream",
          "text": [
            "Please enter a single digit integer 9\n",
            "[0, 2, 4, 6, 8]\n"
          ],
          "name": "stdout"
        }
      ]
    },
    {
      "cell_type": "code",
      "metadata": {
        "id": "6t0I1jVXsm3Q"
      },
      "source": [
        ""
      ],
      "execution_count": null,
      "outputs": []
    }
  ]
}