{
  "nbformat": 4,
  "nbformat_minor": 0,
  "metadata": {
    "colab": {
      "name": "Final_Project.ipynb",
      "provenance": []
    },
    "kernelspec": {
      "name": "python3",
      "display_name": "Python 3"
    }
  },
  "cells": [
    {
      "cell_type": "code",
      "metadata": {
        "colab": {
          "base_uri": "https://localhost:8080/"
        },
        "id": "vI01Cg4HDIIz",
        "outputId": "d7331926-0ea1-4035-fac8-3791f117d3f5"
      },
      "source": [
        "#To see the languages spoken by a certain employee\n",
        "employee1=[\"Joe McTavish\", 41, \"English, Gaelic, German,\"]\n",
        "employee2=[\"Deborah Ferguson\", 32, \"Italian, English, Spanish,\"]\n",
        "employee3=[\"Henrik Davidson\",27, \"Danish,English,Norwegian,\"]\n",
        "employee4=[\"Amina Hassan\", 29, \"Arabic, Hebrew, English,\"]\n",
        "manager1=[\"Marlon Roberts\", 43, \"English\"]\n",
        "manager2=[\"Annalise Beauchamp\", 38, \"French, English, German\"]\n",
        "\n",
        "employee = input(\"Please enter the number of an employee to see what languages they speak\")\n",
        "if employee == \"1\":\n",
        "  print(\"The languages spoken by employee1 are: \", employee1[2])\n",
        "elif employee ==\"2\":\n",
        "  print(\"The languages spoken by employee2 are: \", employee2[2])\n",
        "elif employee ==\"3\":\n",
        "  print (\"The languages spoken by employee3 are: \", employee3[2])\n",
        "elif employee == \"4\":\n",
        " print (\"The languages spoken by employee4 are: \", employee4[2])\n",
        "else:\n",
        "  print(\"An employee with the number you entered doesn't seem to exist.\")"
      ],
      "execution_count": 19,
      "outputs": [
        {
          "output_type": "stream",
          "text": [
            "Please enter the number of an employee to see what languages they speak3\n",
            "The languages spoken by employee3 are:  Danish,English,Norwegian,\n"
          ],
          "name": "stdout"
        }
      ]
    },
    {
      "cell_type": "code",
      "metadata": {
        "colab": {
          "base_uri": "https://localhost:8080/"
        },
        "id": "wGLnSVleDMQl",
        "outputId": "29ef3c03-0240-4c80-cd2c-8e1affa28712"
      },
      "source": [
        "#To see the languages spoken by all employees\n",
        "def all_langs(): \n",
        "   print(employee1[2],\n",
        "      employee2[2],\n",
        "      employee3[2],\n",
        "      employee4[2])\n",
        "all_langs()"
      ],
      "execution_count": 20,
      "outputs": [
        {
          "output_type": "stream",
          "text": [
            "English, Gaelic, German, Italian, English, Spanish, Danish,English,Norwegian, Arabic, Hebrew, English,\n"
          ],
          "name": "stdout"
        }
      ]
    },
    {
      "cell_type": "code",
      "metadata": {
        "id": "ybVwTI63Gt-5"
      },
      "source": [
        "#Employees and managers classes\n",
        "class Employees():\n",
        "    def __init__(self,name,age,language):\n",
        "        self.name = name\n",
        "        self.age = age\n",
        "        self.language = language\n",
        "\n",
        "    def showLang(self):\n",
        "        print(self.language)\n",
        "class Managers ():\n",
        "    def __init__(self,name,age,language):\n",
        "        self.name = name\n",
        "        self.age = age\n",
        "        self.language = language"
      ],
      "execution_count": 21,
      "outputs": []
    },
    {
      "cell_type": "code",
      "metadata": {
        "colab": {
          "base_uri": "https://localhost:8080/"
        },
        "id": "74ScQhk1HXPx",
        "outputId": "b530ec3b-39d8-4399-838b-f8445044d60a"
      },
      "source": [
        "employee1 = Employees(\"Joe McTavish\", 41, \"English, Gaelic, German,\")\n",
        "employee2 = Employees(\"Deborah Ferguson\", 32, \"Italian, English, Spanish,\")\n",
        "employee3 = Employees(\"Henrik Davidson\",27, \"Danish,English,Norwegian,\")\n",
        "employee4 = Employees(\"Amina Hassan\", 29, \"Arabic, Hebrew, English,\")\n",
        "print(employee1.name)\n",
        "employee1.showLang()"
      ],
      "execution_count": 30,
      "outputs": [
        {
          "output_type": "stream",
          "text": [
            "Joe McTavish\n",
            "English, Gaelic, German,\n"
          ],
          "name": "stdout"
        }
      ]
    },
    {
      "cell_type": "code",
      "metadata": {
        "colab": {
          "base_uri": "https://localhost:8080/"
        },
        "id": "fmGgMSaHHtYo",
        "outputId": "ef9d3d99-81c9-4243-aed0-17592fb29de0"
      },
      "source": [
        "manager1 = Managers (\"Marlon Roberts\", 43, \"English\")\n",
        "manager2 = Managers(\"Annalise Beauchamp\", 38, \"French, English, German\")\n",
        "print(manager2.language)"
      ],
      "execution_count": 31,
      "outputs": [
        {
          "output_type": "stream",
          "text": [
            "French, English, German\n"
          ],
          "name": "stdout"
        }
      ]
    },
    {
      "cell_type": "code",
      "metadata": {
        "id": "ltA-q54DJnwS"
      },
      "source": [
        ""
      ],
      "execution_count": null,
      "outputs": []
    }
  ]
}