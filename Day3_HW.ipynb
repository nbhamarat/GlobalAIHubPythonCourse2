{
  "nbformat": 4,
  "nbformat_minor": 0,
  "metadata": {
    "kernelspec": {
      "display_name": "Python 3",
      "language": "python",
      "name": "python3"
    },
    "language_info": {
      "codemirror_mode": {
        "name": "ipython",
        "version": 3
      },
      "file_extension": ".py",
      "mimetype": "text/x-python",
      "name": "python",
      "nbconvert_exporter": "python",
      "pygments_lexer": "ipython3",
      "version": "3.8.5"
    },
    "colab": {
      "name": "Day3-HW.ipynb",
      "provenance": []
    }
  },
  "cells": [
    {
      "cell_type": "code",
      "metadata": {
        "colab": {
          "base_uri": "https://localhost:8080/"
        },
        "id": "jG1LQWTHrQQU",
        "outputId": "2ea076af-20ef-45d9-ffd1-6d92610b5d7b"
      },
      "source": [
        "#Log in system\n",
        "user_name1 =input(\"Please enter your user name: \")\n",
        "password1= input(\"Please enter your password: \")\n",
        "\n",
        "user_name = \"Randomname\"\n",
        "password =\"somebirthday\"\n",
        "\n",
        "if (user_name != user_name1 and password == password1):\n",
        "    print(\"Wrong user name\")\n",
        "elif (user_name==user_name1 and password != password1):\n",
        "    print(\"Wrong password\")\n",
        "elif (user_name != user_name1 and password!= password1):\n",
        "    print(\"Wrong user name and password\")\n",
        "else:\n",
        "    print(\"Logging in...\")"
      ],
      "execution_count": 4,
      "outputs": [
        {
          "output_type": "stream",
          "text": [
            "Please enter your user name: Randomname\n",
            "Please enter your password: 1970\n",
            "Wrong password\n"
          ],
          "name": "stdout"
        }
      ]
    },
    {
      "cell_type": "code",
      "metadata": {
        "colab": {
          "base_uri": "https://localhost:8080/"
        },
        "id": "W_50iKTNrQQV",
        "outputId": "b1244131-3938-44de-8eb5-86edacbc028b"
      },
      "source": [
        "#Log in system using a dictionary\n",
        "data={\"Frodo\":\"Baggins\", \"Sam\":\"Gamgee\", \"Pippin\":\"Took\"}\n",
        "\n",
        "user_name1 =input(\"Please enter your user name \")\n",
        "password1= input(\"Please enter your password \")\n",
        "\n",
        "if (user_name1,password1) in data.items():\n",
        " print(\"Succesful entry\")\n",
        "else:\n",
        " print(\"Wrong user name or password.\")"
      ],
      "execution_count": 3,
      "outputs": [
        {
          "output_type": "stream",
          "text": [
            "Please enter your user name Sam\n",
            "Please enter your password Gamgee\n",
            "Succesful entry\n"
          ],
          "name": "stdout"
        }
      ]
    },
    {
      "cell_type": "code",
      "metadata": {
        "id": "Uvsg7x0grXx7"
      },
      "source": [
        ""
      ],
      "execution_count": null,
      "outputs": []
    }
  ]
}